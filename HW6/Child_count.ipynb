{
 "cells": [
  {
   "cell_type": "code",
   "execution_count": 1,
   "metadata": {},
   "outputs": [],
   "source": [
    "import json"
   ]
  },
  {
   "cell_type": "code",
   "execution_count": null,
   "metadata": {},
   "outputs": [],
   "source": [
    "tree = json.loads(\"\")\n"
   ]
  },
  {
   "cell_type": "code",
   "execution_count": 16,
   "metadata": {},
   "outputs": [],
   "source": [
    "data_1 = json.loads('[{\"name\": \"A\", \"parents\": []},{\"name\":\"B\", \"parents\":[\"A\", \"C\"]}, {\"name\":\"C\", \"parents\":[\"A\"]}]')\n",
    "data_2 = json.loads('[{\"name\": \"B\", \"parents\": [\"A\", \"C\"]},' +\n",
    "                  ' {\"name\": \"C\", \"parents\":[\"A\"]},' +\n",
    "                  ' {\"name\": \"A\", \"parents\": []},' +\n",
    "                  ' {\"name\": \"D\", \"parents\":[\"C\",\"F\"]},' +\n",
    "                  ' {\"name\": \"E\", \"parents\":[\"D\"]},' +\n",
    "                  ' {\"name\": \"F\", \"parents\":[]}]')\n"
   ]
  },
  {
   "cell_type": "code",
   "execution_count": 15,
   "metadata": {},
   "outputs": [
    {
     "name": "stdout",
     "output_type": "stream",
     "text": [
      "B: A C\n",
      "C: A\n",
      "A: \n",
      "D: C F\n",
      "E: D\n",
      "F: \n",
      "['B', 'C', 'A', 'D', 'E', 'F']\n",
      "{'F': [], 'C': ['A'], 'D': ['C', 'F'], 'B': ['A', 'C'], 'A': [], 'E': ['D']}\n"
     ]
    }
   ],
   "source": [
    "\n",
    "names = []\n",
    "parents = {}\n",
    "data = data_2\n",
    "i = 0\n",
    "for cl in data:\n",
    "    print(cl['name'], \": \", ' '.join(cl['parents']) , sep = '')\n",
    "    names.append(cl['name'])\n",
    "    parents[cl['name']] = cl['parents']\n",
    "    i += 1\n",
    "\n",
    "print(names)\n",
    "print(parents)"
   ]
  },
  {
   "cell_type": "code",
   "execution_count": 18,
   "metadata": {},
   "outputs": [
    {
     "name": "stdout",
     "output_type": "stream",
     "text": [
      "A :  5\n",
      "B :  1\n",
      "C :  4\n",
      "D :  2\n",
      "E :  1\n",
      "F :  3\n"
     ]
    }
   ],
   "source": [
    "descendants = {el: [] for el in names}\n",
    "visited = {el: False for el in names}\n",
    "\n",
    "def DFS(cur):\n",
    "    descendants[cur].append(v)\n",
    "    visited[cur] = True\n",
    "    for parent in parents[cur]:\n",
    "        if not visited[parent]:\n",
    "            DFS(parent)\n",
    "            \n",
    "for v in names:\n",
    "    visited = {el: False for el in names}\n",
    "    DFS(v)\n",
    "\n",
    "for key in sorted(descendants.keys()):\n",
    "    print(key,  \": \", len(descendants[key]))"
   ]
  },
  {
   "cell_type": "code",
   "execution_count": 10,
   "metadata": {},
   "outputs": [
    {
     "name": "stdout",
     "output_type": "stream",
     "text": [
      "A :  0\n",
      "B :  0\n",
      "C :  0\n",
      "D :  0\n",
      "E :  0\n",
      "F :  0\n"
     ]
    }
   ],
   "source": [
    "def des_count(json_string):\n",
    "    descendants = {el: [] for el in names}\n",
    "    visited = {el: False for el in names}\n",
    "\n",
    "    def DFS(cur):\n",
    "        visited[v] = True\n",
    "        for parent in parents[cur]:\n",
    "            if not visited[parent]:\n",
    "                DFS(parent)\n",
    "\n",
    "    names = []\n",
    "    parents = {}\n",
    "\n",
    "    for cl in json.loads(json_string):\n",
    "        print(cl['name'], \": \", ' '.join(cl['parents']) , sep = '')\n",
    "        names.append(cl['name'])\n",
    "        parents[cl['name']] = cl['parents']\n",
    "        \n",
    "    descendants = {el: [] for el in names}        \n",
    "            \n",
    "for v in names:\n",
    "    visited = {el: False for el in names}\n",
    "    DFS(v)\n",
    "\n",
    "for key in sorted(descendants.keys()):\n",
    "    print(key,  \": \", len(descendants[key]))"
   ]
  }
 ],
 "metadata": {
  "kernelspec": {
   "display_name": "Python 3",
   "language": "python",
   "name": "python3"
  },
  "language_info": {
   "codemirror_mode": {
    "name": "ipython",
    "version": 3
   },
   "file_extension": ".py",
   "mimetype": "text/x-python",
   "name": "python",
   "nbconvert_exporter": "python",
   "pygments_lexer": "ipython3",
   "version": "3.5.6"
  }
 },
 "nbformat": 4,
 "nbformat_minor": 2
}
