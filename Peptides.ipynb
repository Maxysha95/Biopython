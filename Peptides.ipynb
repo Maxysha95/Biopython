{
 "cells": [
  {
   "cell_type": "markdown",
   "metadata": {},
   "source": [
    "# Import"
   ]
  },
  {
   "cell_type": "code",
   "execution_count": 257,
   "metadata": {},
   "outputs": [],
   "source": [
    "from Bio.Seq import Seq\n",
    "from Bio.Alphabet import IUPAC\n",
    "from Bio.Alphabet import generic_dna\n",
    

   ]
  },
  {
   "cell_type": "markdown",
   "metadata": {},
   "source": [
    "# Data"
   ]
  },
  {
   "cell_type": "code",
   "execution_count": 255,
   "metadata": {},
   "outputs": [],
   "source": [
    "my_seq = Seq(\"AGTACTAGAGCATTCTATGGAG\", IUPAC.unambiguous_dna)\n",
    "rev_seq = my_seq[::-1]"
   ]
  },
  {
   "cell_type": "markdown",
   "metadata": {},
   "source": [
    "# Three frames and six strings"
   ]
  },
  {
   "cell_type": "code",
   "execution_count": 306,
   "metadata": {},
   "outputs": [
    {
     "name": "stdout",
     "output_type": "stream",
     "text": [
      "[Seq('AGTACTAGAGCATTCTATGGAG', IUPACUnambiguousDNA()), Seq('GAGGTATCTTACGAGATCATGA', IUPACUnambiguousDNA()), Seq('GTACTAGAGCATTCTATGGAG', IUPACUnambiguousDNA()), Seq('AGGTATCTTACGAGATCATGA', IUPACUnambiguousDNA()), Seq('TACTAGAGCATTCTATGGAG', IUPACUnambiguousDNA()), Seq('GGTATCTTACGAGATCATGA', IUPACUnambiguousDNA())]\n"
     ]
    }
   ],
   "source": [
    "my_seq = Seq(\"AGTACTAGAGCATTCTATGGAG\", IUPAC.unambiguous_dna)\n",
    "rev_seq = my_seq[::-1]\n",
    "strings = []\n",
    "for i in range(3):\n",
    "    strings.append(my_seq[i:])\n",
    "    strings.append(rev_seq[i:])\n",
    "print(strings)"
   ]
  },
  {
   "cell_type": "markdown",
   "metadata": {},
   "source": [
    "# Possible peptides"
   ]
  },
  {
   "cell_type": "code",
   "execution_count": 311,
   "metadata": {
    "scrolled": true
   },
   "outputs": [
    {
     "name": "stdout",
     "output_type": "stream",
     "text": [
      "[Seq('STRAFYG', IUPACProtein()), Seq('EVSYEIM', IUPACProtein()), Seq('VLEHSME', IUPACProtein()), Seq('RYLTRS', IUPACProtein()), Seq('Y', IUPACProtein()), Seq('GILRDH', IUPACProtein())]\n"
     ]
    }
   ],
   "source": [
    "peptides = []\n",
    "for element in strings:\n",
    "    peptides.append(element.translate(to_stop=True))\n",
    "    \n",
    "print(peptides)"
   ]
  },
  {
   "cell_type": "markdown",
   "metadata": {},
   "source": [
    "# The longest string"
   ]
  },
  {
   "cell_type": "code",
   "execution_count": 321,
   "metadata": {},
   "outputs": [
    {
     "name": "stdout",
     "output_type": "stream",
     "text": [
      "VLEHSME\n"
     ]
    }
   ],
   "source": [
    "sorted_seq = sorted(peptides, key = lambda x: len(x))\n",
    "print(sorted_seq[len(sorted_seq) -1])"
   ]
  },
  {
   "cell_type": "code",
   "execution_count": null,
   "metadata": {},
   "outputs": [],
   "source": []
  }
 ],
 "metadata": {
  "kernelspec": {
   "display_name": "Python 3",
   "language": "python",
   "name": "python3"
  },
  "language_info": {
   "codemirror_mode": {
    "name": "ipython",
    "version": 3
   },
   "file_extension": ".py",
   "mimetype": "text/x-python",
   "name": "python",
   "nbconvert_exporter": "python",
   "pygments_lexer": "ipython3",
   "version": "3.5.2"
  }
 },
 "nbformat": 4,
 "nbformat_minor": 2
}
