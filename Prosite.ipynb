{
 "cells": [
  {
   "cell_type": "markdown",
   "metadata": {},
   "source": [
    "# Imports"
   ]
  },
  {
   "cell_type": "code",
   "execution_count": 94,
   "metadata": {},
   "outputs": [],
   "source": [
    "import re\n",
    "import sys"
   ]
  },
  {
   "cell_type": "markdown",
   "metadata": {},
   "source": [
    "# Data"
   ]
  },
  {
   "cell_type": "code",
   "execution_count": 95,
   "metadata": {},
   "outputs": [],
   "source": [
    "regex = \"K[KR]CGH[LMQR]\"\n",
    "string = \"MSHMDAEDAQFQKEVAEVKQWWNDSRWRYTKRTFTAEEIVSKRGNLKITYPSNSQSKKLWNIVEHRFKNKDVSYTYGCLDPVMVTQMAKYLDTVYVSGWQASSTASSTDEPGPDLADYPYTTVPNKVGHLFMAQLFHDRKQREERLTTPKADRAKVANVDYLRPIIADADTGHGGLTAIMKLTKLFIEKGAAGIHIEDQAPGTKKCGHMAGKVLVPISEHINRLVAIRAQADIMGTDLLAVARTDSEAATLITSTIDPRDHYYIQGCTNPALQPLSELMYAAEQSGKSGSELQAIEDAWVKEANLKLFHEAVVDTINAGVHVNKQELINQFLEQSKGKSNAEARTIAQGLTGVDVYFNWDAARTREGYYRYKGGCQCAINRAIAYAPFCDMIWMESKLPDYAQAKEFADGVHAVWPEQKLAYNLSPSFNWKAAMPRDEQETYIQRLAQLGYCWQFITLAGLHQSALMADTFSKAYSKQGMRAYGEIIQEPEAENKVDVLTHQKWSGANYVDNMLKMVSGGVSSTAAMGKGVTEDQFK\"\n",
    "FASTA_ID = \"gb|AAM89498|537aa\"\n",
    "PROSITE_ID = \"PS00161\""
   ]
  },
  {
   "cell_type": "markdown",
   "metadata": {},
   "source": [
    "# Searching"
   ]
  },
  {
   "cell_type": "code",
   "execution_count": 109,
   "metadata": {},
   "outputs": [
    {
     "name": "stdout",
     "output_type": "stream",
     "text": [
      "KKCGHM\n",
      "209\n",
      "None\n"
     ]
    }
   ],
   "source": [
    "mathes = re.search(regex, string )\n",
    "active_site = mathes.group(0)\n",
    "print(active_site)\n",
    "start = mathes.start()\n",
    "print(mathes.end())\n"
   ]
  },
  {
   "cell_type": "markdown",
   "metadata": {},
   "source": [
    "# Result"
   ]
  },
  {
   "cell_type": "code",
   "execution_count": 111,
   "metadata": {},
   "outputs": [
    {
     "name": "stdout",
     "output_type": "stream",
     "text": [
      "Isocitrate lyase gb|AAM89498|537aa contains its active site PS00161 starting from 203th position\n"
     ]
    }
   ],
   "source": [
    "print(\"Isocitrate lyase \" + FASTA_ID + \" contains its active site \" + \n",
    "      PROSITE_ID + \" starting from \" + repr(start) +\"th\" + \" position\")"
   ]
  }
 ],
 "metadata": {
  "kernelspec": {
   "display_name": "Python 3",
   "language": "python",
   "name": "python3"
  },
  "language_info": {
   "codemirror_mode": {
    "name": "ipython",
    "version": 3
   },
   "file_extension": ".py",
   "mimetype": "text/x-python",
   "name": "python",
   "nbconvert_exporter": "python",
   "pygments_lexer": "ipython3",
   "version": "3.5.2"
  }
 },
 "nbformat": 4,
 "nbformat_minor": 2
}
